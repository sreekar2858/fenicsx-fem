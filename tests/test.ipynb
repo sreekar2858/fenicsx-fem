{
 "cells": [
  {
   "cell_type": "markdown",
   "id": "2061dec8",
   "metadata": {},
   "source": [
    "# DOLFINx Modular Structural Solver - Test Notebook\n",
    "\n",
    "**Author:** Sreekar Reddy, Sajjala  \n",
    "**Contact:** sreekar2858.tech  \n",
    "**License:** GPL-3.0\n",
    "\n",
    "This notebook contains test code for the DOLFINx Modular Structural Solver project."
   ]
  },
  {
   "cell_type": "code",
   "execution_count": 1,
   "id": "4c0b9f01",
   "metadata": {},
   "outputs": [],
   "source": [
    "import yaml\n",
    "\n",
    "with open(\"../config/config.yaml\", \"r\") as file:\n",
    "    config = yaml.safe_load(file)"
   ]
  },
  {
   "cell_type": "code",
   "execution_count": 31,
   "id": "dd7a328c",
   "metadata": {},
   "outputs": [
    {
     "data": {
      "text/plain": [
       "'1e-3'"
      ]
     },
     "execution_count": 31,
     "metadata": {},
     "output_type": "execute_result"
    }
   ],
   "source": [
    "config.get(\"geometry\").get(\"scale\", 1.0)"
   ]
  },
  {
   "cell_type": "code",
   "execution_count": 53,
   "id": "82d2e376",
   "metadata": {},
   "outputs": [
    {
     "name": "stdout",
     "output_type": "stream",
     "text": [
      "Output is set to: {'mesh': {'filename': 'cantilever_mesh.vtu', 'format': 'vtu'}}\n"
     ]
    }
   ],
   "source": [
    "if config.get(\"exports\").get(\"mesh\"):\n",
    "    print(\"Output is set to:\", config.get(\"exports\"))\n",
    "else:\n",
    "    print(f\"Output is not set.\")"
   ]
  },
  {
   "cell_type": "code",
   "execution_count": 58,
   "id": "8bed757c",
   "metadata": {},
   "outputs": [
    {
     "data": {
      "text/plain": [
       "'cantilever_modes'"
      ]
     },
     "execution_count": 58,
     "metadata": {},
     "output_type": "execute_result"
    }
   ],
   "source": [
    "\"cantilever_modes\".split(\".\")[0]"
   ]
  },
  {
   "cell_type": "code",
   "execution_count": 4,
   "id": "0ee7bb0c",
   "metadata": {},
   "outputs": [
    {
     "data": {
      "text/plain": [
       "1"
      ]
     },
     "execution_count": 4,
     "metadata": {},
     "output_type": "execute_result"
    }
   ],
   "source": [
    "geometry_params = config.get(\"geometry\")\n",
    "mesh_params = config.get(\"mesh\")\n",
    "1 if geometry_params.get(\"use_boxmesh\") else mesh_params.get(\"element_order\", 1)"
   ]
  }
 ],
 "metadata": {
  "kernelspec": {
   "display_name": "base",
   "language": "python",
   "name": "python3"
  },
  "language_info": {
   "codemirror_mode": {
    "name": "ipython",
    "version": 3
   },
   "file_extension": ".py",
   "mimetype": "text/x-python",
   "name": "python",
   "nbconvert_exporter": "python",
   "pygments_lexer": "ipython3",
   "version": "3.13.3"
  }
 },
 "nbformat": 4,
 "nbformat_minor": 5
}
